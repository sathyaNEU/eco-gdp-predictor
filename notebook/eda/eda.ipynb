{
 "cells": [
  {
   "cell_type": "code",
   "execution_count": 1,
   "metadata": {},
   "outputs": [],
   "source": [
    "import pandas as pd\n",
    "import numpy as np \n",
    "import matplotlib.pyplot as plt\n",
    "import os"
   ]
  },
  {
   "cell_type": "code",
   "execution_count": 12,
   "metadata": {},
   "outputs": [],
   "source": [
    "ds_path = os.getcwd().removesuffix('notebook\\\\eda')+'datasets\\\\'\n",
    "fetp_path = ds_path + 'fetp.csv'\n",
    "fr_path = ds_path + 'fr.csv'\n",
    "gdp_path = ds_path + 'gdp.csv'"
   ]
  },
  {
   "cell_type": "code",
   "execution_count": 37,
   "metadata": {},
   "outputs": [],
   "source": [
    "fetp, fr, gdp = pd.read_csv(fetp_path), pd.read_csv(fr_path), pd.read_csv(gdp_path)"
   ]
  },
  {
   "cell_type": "code",
   "execution_count": 38,
   "metadata": {},
   "outputs": [],
   "source": [
    "fetp.rename(columns={'Employment to population ratio, 15+, female (%) (national estimate)':'emp_pop_ratio'},inplace=True)\n",
    "fr.rename(columns={'Fertility rate - Sex: all - Age: all - Variant: estimates':'fr_ratio'},inplace=True)\n",
    "gdp.rename(columns={'GDP, PPP (constant 2017 international $)':'gdp_ppp'},inplace=True)"
   ]
  },
  {
   "cell_type": "markdown",
   "metadata": {},
   "source": [
    "### Year Range"
   ]
  },
  {
   "cell_type": "code",
   "execution_count": 57,
   "metadata": {},
   "outputs": [],
   "source": [
    "year_min, year_max = max(fetp['Year'].min(),fr['Year'].min(),gdp['Year'].min()), min(fetp['Year'].max(),fr['Year'].max(),gdp['Year'].max())"
   ]
  },
  {
   "cell_type": "code",
   "execution_count": 66,
   "metadata": {},
   "outputs": [],
   "source": [
    "countries = ['United States', 'India', 'China']\n",
    "all_years = { i for i in range(year_min, year_max+1)}"
   ]
  },
  {
   "cell_type": "markdown",
   "metadata": {},
   "source": [
    "### FETP Missing Years"
   ]
  },
  {
   "cell_type": "code",
   "execution_count": 71,
   "metadata": {},
   "outputs": [
    {
     "name": "stdout",
     "output_type": "stream",
     "text": [
      "Missing Years\n",
      "United States : set()\n",
      "India : {1990, 1991, 1992, 1993, 1995, 1996, 1997, 1998, 1999, 2001, 2002, 2003, 2004, 2006, 2007, 2008, 2009, 2011, 2013, 2014, 2015, 2016, 2017}\n",
      "China : {1990, 1991, 1992, 1993, 1994, 1995, 1996, 1997, 1998, 1999, 2001, 2002, 2003, 2004, 2005, 2006, 2007, 2008, 2009, 2010, 2011, 2012, 2013, 2014, 2015, 2016, 2017, 2018, 2019, 2020, 2021, 2022}\n"
     ]
    }
   ],
   "source": [
    "print('Missing Years')\n",
    "for i in countries:\n",
    "    print(f'{i} : {all_years - set(fetp[fetp['Entity']==i]['Year'].to_list())}')"
   ]
  },
  {
   "cell_type": "markdown",
   "metadata": {},
   "source": [
    "### FR Missing Years"
   ]
  },
  {
   "cell_type": "code",
   "execution_count": 72,
   "metadata": {},
   "outputs": [
    {
     "name": "stdout",
     "output_type": "stream",
     "text": [
      "Missing Years\n",
      "United States : set()\n",
      "India : set()\n",
      "China : set()\n"
     ]
    }
   ],
   "source": [
    "print('Missing Years')\n",
    "for i in countries:\n",
    "    print(f'{i} : {all_years - set(fr[fr['Entity']==i]['Year'].to_list())}')"
   ]
  },
  {
   "cell_type": "markdown",
   "metadata": {},
   "source": [
    "### GDP Missing Years"
   ]
  },
  {
   "cell_type": "code",
   "execution_count": 74,
   "metadata": {},
   "outputs": [
    {
     "name": "stdout",
     "output_type": "stream",
     "text": [
      "Missing Years\n",
      "United States : set()\n",
      "India : set()\n",
      "China : set()\n"
     ]
    }
   ],
   "source": [
    "print('Missing Years')\n",
    "for i in countries:\n",
    "    print(f'{i} : {all_years - set(gdp[gdp['Entity']==i]['Year'].to_list())}')"
   ]
  },
  {
   "cell_type": "code",
   "execution_count": 21,
   "metadata": {},
   "outputs": [
    {
     "data": {
      "text/html": [
       "<div>\n",
       "<style scoped>\n",
       "    .dataframe tbody tr th:only-of-type {\n",
       "        vertical-align: middle;\n",
       "    }\n",
       "\n",
       "    .dataframe tbody tr th {\n",
       "        vertical-align: top;\n",
       "    }\n",
       "\n",
       "    .dataframe thead th {\n",
       "        text-align: right;\n",
       "    }\n",
       "</style>\n",
       "<table border=\"1\" class=\"dataframe\">\n",
       "  <thead>\n",
       "    <tr style=\"text-align: right;\">\n",
       "      <th></th>\n",
       "      <th>Entity</th>\n",
       "      <th>Code</th>\n",
       "      <th>Year</th>\n",
       "      <th>Employment to population ratio, 15+, female (%) (national estimate)</th>\n",
       "    </tr>\n",
       "  </thead>\n",
       "  <tbody>\n",
       "    <tr>\n",
       "      <th>643</th>\n",
       "      <td>China</td>\n",
       "      <td>CHN</td>\n",
       "      <td>2000</td>\n",
       "      <td>65.295</td>\n",
       "    </tr>\n",
       "    <tr>\n",
       "      <th>1552</th>\n",
       "      <td>India</td>\n",
       "      <td>IND</td>\n",
       "      <td>1994</td>\n",
       "      <td>26.318</td>\n",
       "    </tr>\n",
       "    <tr>\n",
       "      <th>1553</th>\n",
       "      <td>India</td>\n",
       "      <td>IND</td>\n",
       "      <td>2000</td>\n",
       "      <td>29.957</td>\n",
       "    </tr>\n",
       "    <tr>\n",
       "      <th>1554</th>\n",
       "      <td>India</td>\n",
       "      <td>IND</td>\n",
       "      <td>2005</td>\n",
       "      <td>27.625</td>\n",
       "    </tr>\n",
       "    <tr>\n",
       "      <th>1555</th>\n",
       "      <td>India</td>\n",
       "      <td>IND</td>\n",
       "      <td>2010</td>\n",
       "      <td>27.806</td>\n",
       "    </tr>\n",
       "    <tr>\n",
       "      <th>...</th>\n",
       "      <td>...</td>\n",
       "      <td>...</td>\n",
       "      <td>...</td>\n",
       "      <td>...</td>\n",
       "    </tr>\n",
       "    <tr>\n",
       "      <th>3790</th>\n",
       "      <td>United States</td>\n",
       "      <td>USA</td>\n",
       "      <td>2018</td>\n",
       "      <td>54.888</td>\n",
       "    </tr>\n",
       "    <tr>\n",
       "      <th>3791</th>\n",
       "      <td>United States</td>\n",
       "      <td>USA</td>\n",
       "      <td>2019</td>\n",
       "      <td>55.356</td>\n",
       "    </tr>\n",
       "    <tr>\n",
       "      <th>3792</th>\n",
       "      <td>United States</td>\n",
       "      <td>USA</td>\n",
       "      <td>2020</td>\n",
       "      <td>51.511</td>\n",
       "    </tr>\n",
       "    <tr>\n",
       "      <th>3793</th>\n",
       "      <td>United States</td>\n",
       "      <td>USA</td>\n",
       "      <td>2021</td>\n",
       "      <td>53.166</td>\n",
       "    </tr>\n",
       "    <tr>\n",
       "      <th>3794</th>\n",
       "      <td>United States</td>\n",
       "      <td>USA</td>\n",
       "      <td>2022</td>\n",
       "      <td>54.736</td>\n",
       "    </tr>\n",
       "  </tbody>\n",
       "</table>\n",
       "<p>74 rows × 4 columns</p>\n",
       "</div>"
      ],
      "text/plain": [
       "             Entity Code  Year  \\\n",
       "643           China  CHN  2000   \n",
       "1552          India  IND  1994   \n",
       "1553          India  IND  2000   \n",
       "1554          India  IND  2005   \n",
       "1555          India  IND  2010   \n",
       "...             ...  ...   ...   \n",
       "3790  United States  USA  2018   \n",
       "3791  United States  USA  2019   \n",
       "3792  United States  USA  2020   \n",
       "3793  United States  USA  2021   \n",
       "3794  United States  USA  2022   \n",
       "\n",
       "      Employment to population ratio, 15+, female (%) (national estimate)  \n",
       "643                                              65.295                    \n",
       "1552                                             26.318                    \n",
       "1553                                             29.957                    \n",
       "1554                                             27.625                    \n",
       "1555                                             27.806                    \n",
       "...                                                 ...                    \n",
       "3790                                             54.888                    \n",
       "3791                                             55.356                    \n",
       "3792                                             51.511                    \n",
       "3793                                             53.166                    \n",
       "3794                                             54.736                    \n",
       "\n",
       "[74 rows x 4 columns]"
      ]
     },
     "execution_count": 21,
     "metadata": {},
     "output_type": "execute_result"
    }
   ],
   "source": [
    "fetp[fetp['Entity'].isin(countries)].sort_values(by=['Entity','Year'], ascending=True)"
   ]
  }
 ],
 "metadata": {
  "kernelspec": {
   "display_name": "eco",
   "language": "python",
   "name": "python3"
  },
  "language_info": {
   "codemirror_mode": {
    "name": "ipython",
    "version": 3
   },
   "file_extension": ".py",
   "mimetype": "text/x-python",
   "name": "python",
   "nbconvert_exporter": "python",
   "pygments_lexer": "ipython3",
   "version": "3.12.7"
  }
 },
 "nbformat": 4,
 "nbformat_minor": 2
}
