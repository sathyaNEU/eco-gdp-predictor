{
 "cells": [
  {
   "cell_type": "markdown",
   "metadata": {},
   "source": [
    "### Import necessary headers"
   ]
  },
  {
   "cell_type": "code",
   "execution_count": 560,
   "metadata": {},
   "outputs": [],
   "source": [
    "import pandas as pd\n",
    "import os\n",
    "from sklearn.model_selection import train_test_split\n",
    "from sklearn.linear_model import LinearRegression\n",
    "from sklearn.metrics import mean_squared_error, r2_score\n",
    "import joblib\n",
    "import matplotlib.pyplot as plt\n",
    "import seaborn as sns"
   ]
  },
  {
   "cell_type": "markdown",
   "metadata": {},
   "source": [
    "### Define folder paths"
   ]
  },
  {
   "cell_type": "code",
   "execution_count": 522,
   "metadata": {},
   "outputs": [],
   "source": [
    "artifacts_path = os.getcwd().removesuffix('notebook\\\\model')+'artifacts\\\\'\n",
    "model_endpoints = os.getcwd().removesuffix('notebook\\\\model')+'model_endpoints\\\\'"
   ]
  },
  {
   "cell_type": "markdown",
   "metadata": {},
   "source": [
    "### Combined dataset"
   ]
  },
  {
   "cell_type": "code",
   "execution_count": 523,
   "metadata": {},
   "outputs": [],
   "source": [
    "data = pd.read_csv(artifacts_path + 'eco-1990-2022.csv')"
   ]
  },
  {
   "cell_type": "code",
   "execution_count": 524,
   "metadata": {},
   "outputs": [
    {
     "name": "stdout",
     "output_type": "stream",
     "text": [
      "<class 'pandas.core.frame.DataFrame'>\n",
      "RangeIndex: 99 entries, 0 to 98\n",
      "Data columns (total 6 columns):\n",
      " #   Column      Non-Null Count  Dtype  \n",
      "---  ------      --------------  -----  \n",
      " 0   Entity      99 non-null     object \n",
      " 1   Year        99 non-null     int64  \n",
      " 2   we_avg_yr   99 non-null     float64\n",
      " 3   fr          99 non-null     float64\n",
      " 4   median_age  99 non-null     float64\n",
      " 5   gdp_ppp     99 non-null     float64\n",
      "dtypes: float64(4), int64(1), object(1)\n",
      "memory usage: 4.8+ KB\n"
     ]
    }
   ],
   "source": [
    "data.info()"
   ]
  },
  {
   "cell_type": "code",
   "execution_count": 525,
   "metadata": {},
   "outputs": [],
   "source": [
    "# data['emp_pop_ratio'] = data['emp_pop_ratio'].fillna(data['emp_pop_ratio'].mean())\n",
    "# data['gdp_ppp'] = data['gdp_ppp'].fillna(data['gdp_ppp'].mean())\n",
    "# data['fr_ratio'] = data['fr_ratio'].fillna(data['fr_ratio'].mean())"
   ]
  },
  {
   "cell_type": "markdown",
   "metadata": {},
   "source": [
    "### Grouping datasets by country name"
   ]
  },
  {
   "cell_type": "code",
   "execution_count": 526,
   "metadata": {},
   "outputs": [
    {
     "name": "stderr",
     "output_type": "stream",
     "text": [
      "C:\\Users\\sathy\\AppData\\Local\\Temp\\ipykernel_9720\\1896909570.py:2: SettingWithCopyWarning: \n",
      "A value is trying to be set on a copy of a slice from a DataFrame\n",
      "\n",
      "See the caveats in the documentation: https://pandas.pydata.org/pandas-docs/stable/user_guide/indexing.html#returning-a-view-versus-a-copy\n",
      "  data_germany.drop(columns=['Entity'],inplace=True)\n",
      "C:\\Users\\sathy\\AppData\\Local\\Temp\\ipykernel_9720\\1896909570.py:4: SettingWithCopyWarning: \n",
      "A value is trying to be set on a copy of a slice from a DataFrame\n",
      "\n",
      "See the caveats in the documentation: https://pandas.pydata.org/pandas-docs/stable/user_guide/indexing.html#returning-a-view-versus-a-copy\n",
      "  data_us.drop(columns=['Entity'], inplace=True)\n",
      "C:\\Users\\sathy\\AppData\\Local\\Temp\\ipykernel_9720\\1896909570.py:6: SettingWithCopyWarning: \n",
      "A value is trying to be set on a copy of a slice from a DataFrame\n",
      "\n",
      "See the caveats in the documentation: https://pandas.pydata.org/pandas-docs/stable/user_guide/indexing.html#returning-a-view-versus-a-copy\n",
      "  data_india.drop(columns=['Entity'], inplace=True)\n"
     ]
    }
   ],
   "source": [
    "data_germany = data[data['Entity']=='Germany']\n",
    "data_germany.drop(columns=['Entity'],inplace=True)\n",
    "data_us = data[data['Entity'] == 'United States']\n",
    "data_us.drop(columns=['Entity'], inplace=True)\n",
    "data_india = data[data['Entity'] == 'India']\n",
    "data_india.drop(columns=['Entity'], inplace=True)"
   ]
  },
  {
   "cell_type": "code",
   "execution_count": 527,
   "metadata": {},
   "outputs": [
    {
     "data": {
      "text/html": [
       "<div>\n",
       "<style scoped>\n",
       "    .dataframe tbody tr th:only-of-type {\n",
       "        vertical-align: middle;\n",
       "    }\n",
       "\n",
       "    .dataframe tbody tr th {\n",
       "        vertical-align: top;\n",
       "    }\n",
       "\n",
       "    .dataframe thead th {\n",
       "        text-align: right;\n",
       "    }\n",
       "</style>\n",
       "<table border=\"1\" class=\"dataframe\">\n",
       "  <thead>\n",
       "    <tr style=\"text-align: right;\">\n",
       "      <th></th>\n",
       "      <th>Year</th>\n",
       "      <th>we_avg_yr</th>\n",
       "      <th>fr</th>\n",
       "      <th>median_age</th>\n",
       "      <th>gdp_ppp</th>\n",
       "    </tr>\n",
       "  </thead>\n",
       "  <tbody>\n",
       "    <tr>\n",
       "      <th>0</th>\n",
       "      <td>1990</td>\n",
       "      <td>8.74</td>\n",
       "      <td>1.460</td>\n",
       "      <td>36.600</td>\n",
       "      <td>2915.150994</td>\n",
       "    </tr>\n",
       "    <tr>\n",
       "      <th>1</th>\n",
       "      <td>1991</td>\n",
       "      <td>8.88</td>\n",
       "      <td>1.344</td>\n",
       "      <td>36.658</td>\n",
       "      <td>3064.064531</td>\n",
       "    </tr>\n",
       "  </tbody>\n",
       "</table>\n",
       "</div>"
      ],
      "text/plain": [
       "   Year  we_avg_yr     fr  median_age      gdp_ppp\n",
       "0  1990       8.74  1.460      36.600  2915.150994\n",
       "1  1991       8.88  1.344      36.658  3064.064531"
      ]
     },
     "execution_count": 527,
     "metadata": {},
     "output_type": "execute_result"
    }
   ],
   "source": [
    "data_germany.head(2)"
   ]
  },
  {
   "cell_type": "code",
   "execution_count": 528,
   "metadata": {},
   "outputs": [
    {
     "data": {
      "text/html": [
       "<div>\n",
       "<style scoped>\n",
       "    .dataframe tbody tr th:only-of-type {\n",
       "        vertical-align: middle;\n",
       "    }\n",
       "\n",
       "    .dataframe tbody tr th {\n",
       "        vertical-align: top;\n",
       "    }\n",
       "\n",
       "    .dataframe thead th {\n",
       "        text-align: right;\n",
       "    }\n",
       "</style>\n",
       "<table border=\"1\" class=\"dataframe\">\n",
       "  <thead>\n",
       "    <tr style=\"text-align: right;\">\n",
       "      <th></th>\n",
       "      <th>Year</th>\n",
       "      <th>we_avg_yr</th>\n",
       "      <th>fr</th>\n",
       "      <th>median_age</th>\n",
       "      <th>gdp_ppp</th>\n",
       "    </tr>\n",
       "  </thead>\n",
       "  <tbody>\n",
       "    <tr>\n",
       "      <th>33</th>\n",
       "      <td>1990</td>\n",
       "      <td>2.4</td>\n",
       "      <td>4.045</td>\n",
       "      <td>19.687</td>\n",
       "      <td>1583.371287</td>\n",
       "    </tr>\n",
       "    <tr>\n",
       "      <th>34</th>\n",
       "      <td>1991</td>\n",
       "      <td>2.5</td>\n",
       "      <td>3.959</td>\n",
       "      <td>19.795</td>\n",
       "      <td>1600.104852</td>\n",
       "    </tr>\n",
       "  </tbody>\n",
       "</table>\n",
       "</div>"
      ],
      "text/plain": [
       "    Year  we_avg_yr     fr  median_age      gdp_ppp\n",
       "33  1990        2.4  4.045      19.687  1583.371287\n",
       "34  1991        2.5  3.959      19.795  1600.104852"
      ]
     },
     "execution_count": 528,
     "metadata": {},
     "output_type": "execute_result"
    }
   ],
   "source": [
    "data_india.head(2)"
   ]
  },
  {
   "cell_type": "code",
   "execution_count": 529,
   "metadata": {},
   "outputs": [
    {
     "data": {
      "text/html": [
       "<div>\n",
       "<style scoped>\n",
       "    .dataframe tbody tr th:only-of-type {\n",
       "        vertical-align: middle;\n",
       "    }\n",
       "\n",
       "    .dataframe tbody tr th {\n",
       "        vertical-align: top;\n",
       "    }\n",
       "\n",
       "    .dataframe thead th {\n",
       "        text-align: right;\n",
       "    }\n",
       "</style>\n",
       "<table border=\"1\" class=\"dataframe\">\n",
       "  <thead>\n",
       "    <tr style=\"text-align: right;\">\n",
       "      <th></th>\n",
       "      <th>Year</th>\n",
       "      <th>we_avg_yr</th>\n",
       "      <th>fr</th>\n",
       "      <th>median_age</th>\n",
       "      <th>gdp_ppp</th>\n",
       "    </tr>\n",
       "  </thead>\n",
       "  <tbody>\n",
       "    <tr>\n",
       "      <th>66</th>\n",
       "      <td>1990</td>\n",
       "      <td>12.62</td>\n",
       "      <td>2.072</td>\n",
       "      <td>31.903</td>\n",
       "      <td>10097.624386</td>\n",
       "    </tr>\n",
       "    <tr>\n",
       "      <th>67</th>\n",
       "      <td>1991</td>\n",
       "      <td>12.67</td>\n",
       "      <td>2.059</td>\n",
       "      <td>32.142</td>\n",
       "      <td>10086.692214</td>\n",
       "    </tr>\n",
       "  </tbody>\n",
       "</table>\n",
       "</div>"
      ],
      "text/plain": [
       "    Year  we_avg_yr     fr  median_age       gdp_ppp\n",
       "66  1990      12.62  2.072      31.903  10097.624386\n",
       "67  1991      12.67  2.059      32.142  10086.692214"
      ]
     },
     "execution_count": 529,
     "metadata": {},
     "output_type": "execute_result"
    }
   ],
   "source": [
    "data_us.head(2)"
   ]
  },
  {
   "cell_type": "markdown",
   "metadata": {},
   "source": [
    "### Filtering countries"
   ]
  },
  {
   "cell_type": "code",
   "execution_count": 530,
   "metadata": {},
   "outputs": [],
   "source": [
    "countries = ['United States', 'India', 'Germany']"
   ]
  },
  {
   "cell_type": "markdown",
   "metadata": {},
   "source": [
    "### Consolidating the data under a single data structure"
   ]
  },
  {
   "cell_type": "code",
   "execution_count": 532,
   "metadata": {},
   "outputs": [],
   "source": [
    "master_data = {'Germany':data_germany,'India':data_india,'United States':data_us}"
   ]
  },
  {
   "cell_type": "markdown",
   "metadata": {},
   "source": [
    "### Model Training"
   ]
  },
  {
   "cell_type": "markdown",
   "metadata": {},
   "source": [
    "Training the model, saving it under model_endpoints folder for future use, model training for each country for each featurem"
   ]
  },
  {
   "cell_type": "code",
   "execution_count": null,
   "metadata": {},
   "outputs": [
    {
     "name": "stdout",
     "output_type": "stream",
     "text": [
      "Training model for target : median_age for country United States\n",
      "Model saved successfully!\n",
      "('United States', 'median_age') -> MSE: 0.0639, R2: 0.9540\n",
      "------------------------------------\n",
      "Training model for target : we_avg_yr for country United States\n",
      "Model saved successfully!\n",
      "('United States', 'we_avg_yr') -> MSE: 0.0080, R2: 0.5807\n",
      "------------------------------------\n",
      "Training model for target : median_age for country India\n",
      "Model saved successfully!\n",
      "('India', 'median_age') -> MSE: 0.1595, R2: 0.9676\n",
      "------------------------------------\n",
      "Training model for target : we_avg_yr for country India\n",
      "Model saved successfully!\n",
      "('India', 'we_avg_yr') -> MSE: 0.0144, R2: 0.9914\n",
      "------------------------------------\n",
      "Training model for target : median_age for country Germany\n",
      "Model saved successfully!\n",
      "('Germany', 'median_age') -> MSE: 0.3704, R2: 0.9406\n",
      "------------------------------------\n",
      "Training model for target : we_avg_yr for country Germany\n",
      "Model saved successfully!\n",
      "('Germany', 'we_avg_yr') -> MSE: 0.1864, R2: 0.8538\n",
      "------------------------------------\n",
      "Model Performance:\n",
      "('United States', 'median_age'): MSE = 0.0639, R2 = 0.9540\n",
      "('United States', 'we_avg_yr'): MSE = 0.0080, R2 = 0.5807\n",
      "('India', 'median_age'): MSE = 0.1595, R2 = 0.9676\n",
      "('India', 'we_avg_yr'): MSE = 0.0144, R2 = 0.9914\n",
      "('Germany', 'median_age'): MSE = 0.3704, R2 = 0.9406\n",
      "('Germany', 'we_avg_yr'): MSE = 0.1864, R2 = 0.8538\n",
      "==============================================\n"
     ]
    }
   ],
   "source": [
    "# targets = [ 'fr', 'median_age','we_avg_yr']\n",
    "targets = [ 'median_age','we_avg_yr']\n",
    "\n",
    "# Dictionary to store models and evaluation metrics\n",
    "models = {}\n",
    "results = {}\n",
    "for country in countries:\n",
    "    for target in targets:\n",
    "        print(f\"Training model for target : {target} for country {country}\")\n",
    "        \n",
    "        X = master_data[country][['Year']]  # Features\n",
    "        # Prepare target data\n",
    "        Y = master_data[country][target]\n",
    "        \n",
    "        # Split data into train and test sets\n",
    "        X_train, X_test, y_train, y_test = train_test_split(X, Y, test_size=0.2, random_state=42)\n",
    "        \n",
    "        # Initialize and train the Linear Regression model\n",
    "        model = LinearRegression()\n",
    "        model.fit(X_train, y_train)\n",
    "        joblib.dump(model,model_endpoints + f'lr_{country}_{target}.pkl')\n",
    "        print(\"Model saved successfully!\")\n",
    "        \n",
    "        # Predictions\n",
    "        y_pred = model.predict(X_test)\n",
    "        \n",
    "        # Evaluate the model\n",
    "        mse = mean_squared_error(y_test, y_pred)\n",
    "        r2 = r2_score(y_test, y_pred)\n",
    "        \n",
    "        # Save model and results\n",
    "        models[(country,target)] = model\n",
    "        results[(country,target)] = {'MSE': mse, 'R2': r2}\n",
    "        \n",
    "        print(f\"{(country,target)} -> MSE: {mse:.4f}, R2: {r2:.4f}\")\n",
    "        print('------------------------------------')\n",
    "        \n",
    "# Results summary\n",
    "print(\"Model Performance:\")\n",
    "for target, metrics in results.items():\n",
    "    print(f\"{target}: MSE = {metrics['MSE']:.4f}, R2 = {metrics['R2']:.4f}\")\n",
    "print(\"==============================================\")\n",
    "    "
   ]
  },
  {
   "cell_type": "code",
   "execution_count": 534,
   "metadata": {},
   "outputs": [],
   "source": [
    "# test_data_prep = [\n",
    "#     {\n",
    "#         'Year':year,\n",
    "#         'Entity_encoded':entity, \n",
    "#         'fr':models['fr'].predict(pd.DataFrame([{'Year':year,'Entity_encoded':entity}]))[0], \n",
    "#     } \n",
    "#     for entity in data['Entity_encoded'].unique().tolist() for year in pred_year_range\n",
    "#     ]\n",
    "# test_data_prep_df = pd.DataFrame(test_data_prep)"
   ]
  },
  {
   "cell_type": "code",
   "execution_count": 535,
   "metadata": {},
   "outputs": [],
   "source": [
    "# models[('India','fr')].intercept_"
   ]
  },
  {
   "cell_type": "code",
   "execution_count": 536,
   "metadata": {},
   "outputs": [],
   "source": [
    "# # Assuming 'model' is the trained LinearRegression model\n",
    "# intercept = models['fr'].intercept_  # Intercept (β0)\n",
    "# coefficients = models['fr'].coef_ # Coefficients for each feature\n",
    "\n",
    "# # Define feature names\n",
    "# feature_names = ['Year', 'Entity_encoded', 'fr', 'median_age', 'we_avg_yr']\n",
    "\n",
    "# # Print the equation\n",
    "# print(f\"Intercept (β0): {intercept:.4f}\")\n",
    "# for feature, coef in zip(feature_names, coefficients):\n",
    "#     print(f\"Coefficient for {feature} (β): {coef:.4f}\")\n",
    "\n",
    "# # Construct the linear equation\n",
    "# equation = f\"gdp_ppp = {intercept:.4f} + \" + \" + \".join(\n",
    "#     [f\"{coef:.4f} * {feature}\" for feature, coef in zip(feature_names, coefficients)]\n",
    "# )\n",
    "# print(\"\\nLinear Equation:\")\n",
    "# print(equation)\n"
   ]
  },
  {
   "cell_type": "code",
   "execution_count": 537,
   "metadata": {},
   "outputs": [],
   "source": [
    "# test_data_prep = [\n",
    "#     {\n",
    "#         'Year':year,\n",
    "#         'Entity_encoded':entity, \n",
    "#         'median_age':models['median_age'].predict(pd.DataFrame([{'Year':year,'Entity_encoded':entity}]))[0], \n",
    "#     } \n",
    "#     for entity in data['Entity_encoded'].unique().tolist() for year in pred_year_range\n",
    "#     ]\n",
    "# test_data_prep_df = pd.DataFrame(test_data_prep)"
   ]
  },
  {
   "cell_type": "code",
   "execution_count": 538,
   "metadata": {},
   "outputs": [],
   "source": [
    "# # Assuming 'model' is the trained LinearRegression model\n",
    "# intercept = models['median_age'].intercept_  # Intercept (β0)\n",
    "# coefficients = models['median_age'].coef_ # Coefficients for each feature\n",
    "\n",
    "# # Define feature names\n",
    "# feature_names = ['Year', 'Entity_encoded', 'fr', 'median_age', 'we_avg_yr']\n",
    "\n",
    "# # Print the equation\n",
    "# print(f\"Intercept (β0): {intercept:.4f}\")\n",
    "# for feature, coef in zip(feature_names, coefficients):\n",
    "#     print(f\"Coefficient for {feature} (β): {coef:.4f}\")\n",
    "\n",
    "# # Construct the linear equation\n",
    "# equation = f\"gdp_ppp = {intercept:.4f} + \" + \" + \".join(\n",
    "#     [f\"{coef:.4f} * {feature}\" for feature, coef in zip(feature_names, coefficients)]\n",
    "# )\n",
    "# print(\"\\nLinear Equation:\")\n",
    "# print(equation)\n"
   ]
  },
  {
   "cell_type": "code",
   "execution_count": 539,
   "metadata": {},
   "outputs": [],
   "source": [
    "# # Create the line chart\n",
    "# import matplotlib.pyplot as plt\n",
    "# import seaborn as sns\n",
    "\n",
    "# plt.figure(figsize=(12, 6))\n",
    "# sns.lineplot(\n",
    "#     data=test_data_prep_df,\n",
    "#     x='Year',\n",
    "#     y='median_age',\n",
    "#     hue='Entity_encoded',  # Different lines for each country\n",
    "#     palette='tab10'  # Optional color palette\n",
    "# )\n",
    "\n",
    "# # Customize the plot\n",
    "# plt.title('median age Over Years by Country')\n",
    "# plt.xlabel('Year')\n",
    "# plt.ylabel('GDP (PPP)')\n",
    "# plt.legend(title='Country')\n",
    "# plt.grid(True)\n",
    "# plt.tight_layout()\n",
    "\n",
    "# # Show the plot\n",
    "# plt.show()"
   ]
  },
  {
   "cell_type": "code",
   "execution_count": 540,
   "metadata": {},
   "outputs": [],
   "source": [
    "# # Create the line chart\n",
    "# import matplotlib.pyplot as plt\n",
    "# import seaborn as sns\n",
    "\n",
    "# plt.figure(figsize=(12, 6))\n",
    "# sns.lineplot(\n",
    "#     data=test_data_prep_df,\n",
    "#     x='Year',\n",
    "#     y='fr',\n",
    "#     hue='Entity_encoded',  # Different lines for each country\n",
    "#     palette='tab10'  # Optional color palette\n",
    "# )\n",
    "\n",
    "# # Customize the plot\n",
    "# plt.title('FR Over Years by Country')\n",
    "# plt.xlabel('Year')\n",
    "# plt.ylabel('GDP (PPP)')\n",
    "# plt.legend(title='Country')\n",
    "# plt.grid(True)\n",
    "# plt.tight_layout()\n",
    "\n",
    "# # Show the plot\n",
    "# plt.show()"
   ]
  },
  {
   "cell_type": "code",
   "execution_count": 541,
   "metadata": {},
   "outputs": [],
   "source": [
    "pred_year_range = range(2023,2060)"
   ]
  },
  {
   "cell_type": "code",
   "execution_count": 542,
   "metadata": {},
   "outputs": [],
   "source": [
    "# test_data_prep = [{'Year':j,'Entity':i} for i in data['Entity'] .unique().tolist() for j in pred_year_range]\n",
    "# test_data_prep_df = pd.DataFrame(test_data_prep)"
   ]
  },
  {
   "cell_type": "code",
   "execution_count": 543,
   "metadata": {},
   "outputs": [],
   "source": [
    "# models[('India','we_avg_yr')].predict(pd.DataFrame([{'Year':2023}]))[0]"
   ]
  },
  {
   "cell_type": "markdown",
   "metadata": {},
   "source": [
    "### Training a linear model with Input Features as Year, Women Employment Average Years and Median Youth Age and the target variable is GDP"
   ]
  },
  {
   "cell_type": "code",
   "execution_count": 545,
   "metadata": {},
   "outputs": [
    {
     "name": "stdout",
     "output_type": "stream",
     "text": [
      "Performance Metrics:\n",
      "Germany => gdp_ppp: Mean Squared Error = 7032.39, R-squared = 0.95\n",
      "------------------------------------------------------------------------\n",
      "Performance Metrics:\n",
      "India => gdp_ppp: Mean Squared Error = 16074.73, R-squared = 1.0\n",
      "------------------------------------------------------------------------\n",
      "Performance Metrics:\n",
      "United States => gdp_ppp: Mean Squared Error = 106773.39, R-squared = 0.98\n",
      "------------------------------------------------------------------------\n"
     ]
    }
   ],
   "source": [
    "for country,dataset in master_data.items():\n",
    "    # X = dataset[['Year','we_avg_yr','fr','median_age']]  # Features\n",
    "    X = dataset[['Year','we_avg_yr','median_age']]  # Features\n",
    "    Y = dataset[['gdp_ppp', ]]  # Targets\n",
    "    X_train, X_test, Y_train, Y_test = train_test_split(X, Y, test_size=0.2, random_state=42)\n",
    "    model = LinearRegression()\n",
    "    model.fit(X_train, Y_train)\n",
    "    models[(country,'gdp_ppp')]=model\n",
    "    Y_pred = model.predict(X_test)\n",
    "    # Calculate MSE and R²\n",
    "    mse = mean_squared_error(Y_test, Y_pred)\n",
    "    r2 = r2_score(Y_test, Y_pred)\n",
    "\n",
    "    # Define the target name\n",
    "    target_name = 'gdp_ppp'\n",
    "\n",
    "    # Print MSE and R² for the target\n",
    "    print(\"Performance Metrics:\")\n",
    "    print(f\"{country} => {target_name}: Mean Squared Error = {round(mse, 2)}, R-squared = {round(r2, 2)}\")\n",
    "    print(\"------------------------------------------------------------------------\")\n"
   ]
  },
  {
   "cell_type": "markdown",
   "metadata": {},
   "source": [
    "### Trained models that are consolidated under a unified data structure for simpler access"
   ]
  },
  {
   "cell_type": "code",
   "execution_count": 546,
   "metadata": {},
   "outputs": [
    {
     "data": {
      "text/plain": [
       "{('United States', 'median_age'): LinearRegression(),\n",
       " ('United States', 'we_avg_yr'): LinearRegression(),\n",
       " ('India', 'median_age'): LinearRegression(),\n",
       " ('India', 'we_avg_yr'): LinearRegression(),\n",
       " ('Germany', 'median_age'): LinearRegression(),\n",
       " ('Germany', 'we_avg_yr'): LinearRegression(),\n",
       " ('Germany', 'gdp_ppp'): LinearRegression(),\n",
       " ('India', 'gdp_ppp'): LinearRegression(),\n",
       " ('United States', 'gdp_ppp'): LinearRegression()}"
      ]
     },
     "execution_count": 546,
     "metadata": {},
     "output_type": "execute_result"
    }
   ],
   "source": [
    "models"
   ]
  },
  {
   "cell_type": "markdown",
   "metadata": {},
   "source": [
    "### Createing source data, which is apprantly an output of previoualy trained linear models"
   ]
  },
  {
   "cell_type": "code",
   "execution_count": 547,
   "metadata": {},
   "outputs": [],
   "source": [
    "test_data_prep = [\n",
    "    {\n",
    "        'Year':year,\n",
    "        'Entity':entity, \n",
    "        # 'fr':models[(entity,'fr')].predict(pd.DataFrame([{'Year':year}]))[0],\n",
    "        'median_age':models[(entity,'median_age')].predict(pd.DataFrame([{'Year':year}]))[0],\n",
    "        'we_avg_yr':models[(entity,'we_avg_yr')].predict(pd.DataFrame([{'Year':year}]))[0]   \n",
    "    } \n",
    "    for entity in master_data.keys() for year in pred_year_range\n",
    "    ]"
   ]
  },
  {
   "cell_type": "code",
   "execution_count": 548,
   "metadata": {},
   "outputs": [],
   "source": [
    "# test_data_prep"
   ]
  },
  {
   "cell_type": "markdown",
   "metadata": {},
   "source": [
    "### predicted outcomes"
   ]
  },
  {
   "cell_type": "code",
   "execution_count": null,
   "metadata": {},
   "outputs": [],
   "source": [
    "raw_pred_data = [\n",
    "    {\n",
    "        'Year' : obj['Year'],\n",
    "        'Entity' : obj['Entity'],\n",
    "        'gdp_ppp' : models[(obj['Entity'],'gdp_ppp')].predict(pd.DataFrame([{'Year':obj['Year'],'we_avg_yr':obj['we_avg_yr'], 'median_age': obj['median_age']}]))[0][0]\n",
    "    }\n",
    "    for obj in test_data_prep\n",
    "    ]\n",
    "pred_data_df = pd.DataFrame(raw_pred_data)"
   ]
  },
  {
   "cell_type": "markdown",
   "metadata": {},
   "source": [
    "## Analyzing Linear Growth\n",
    "### GDP against Year for US,GER,IND\n"
   ]
  },
  {
   "cell_type": "code",
   "execution_count": 573,
   "metadata": {},
   "outputs": [
    {
     "data": {
      "image/png": "[encoded data removed]",
      "text/plain": [
       "<Figure size 800x600 with 1 Axes>"
      ]
     },
     "metadata": {},
     "output_type": "display_data"
    }
   ],
   "source": [
    "# Create the line chart\n",
    "import matplotlib.pyplot as plt\n",
    "import seaborn as sns\n",
    "\n",
    "plt.figure(figsize=(8, 6))\n",
    "sns.lineplot(\n",
    "    data=pred_data_df,\n",
    "    x='Year',\n",
    "    y='gdp_ppp',\n",
    "    hue='Entity',  # Different lines for each country\n",
    "    palette='tab10'  # Optional color palette\n",
    ")\n",
    "\n",
    "# Customize the plot\n",
    "plt.title('GDP (PPP) Over Years by Country')\n",
    "plt.xlabel('Year')\n",
    "plt.ylabel('GDP (PPP)')\n",
    "plt.legend(title='Country')\n",
    "plt.grid(True)\n",
    "plt.tight_layout()\n",
    "\n",
    "# Show the plot\n",
    "plt.show()"
   ]
  },
  {
   "cell_type": "code",
   "execution_count": 574,
   "metadata": {},
   "outputs": [
    {
     "data": {
      "image/png": "[encoded data removed]",
      "text/plain": [
       "<Figure size 800x600 with 1 Axes>"
      ]
     },
     "metadata": {},
     "output_type": "display_data"
    }
   ],
   "source": [
    "# Create the line chart\n",
    "plt.figure(figsize=(8, 6))\n",
    "sns.lineplot(\n",
    "    data=data,\n",
    "    x='Year',\n",
    "    y='gdp_ppp',\n",
    "    hue='Entity',  # Different lines for each country\n",
    "    palette='tab10'  # Optional color palette\n",
    ")\n",
    "\n",
    "# Customize the plot\n",
    "plt.title('GDP (PPP) Over Years by Country')\n",
    "plt.xlabel('Year')\n",
    "plt.ylabel('GDP (PPP)')\n",
    "plt.legend(title='Country')\n",
    "plt.grid(True)\n",
    "plt.tight_layout()\n",
    "\n",
    "# Show the plot\n",
    "plt.show()"
   ]
  },
  {
   "cell_type": "code",
   "execution_count": 576,
   "metadata": {},
   "outputs": [],
   "source": [
    "pred_data_df.to_csv(artifacts_path+'results.csv',index=False)"
   ]
  }
 ],
 "metadata": {
  "kernelspec": {
   "display_name": "eco",
   "language": "python",
   "name": "python3"
  },
  "language_info": {
   "codemirror_mode": {
    "name": "ipython",
    "version": 3
   },
   "file_extension": ".py",
   "mimetype": "text/x-python",
   "name": "python",
   "nbconvert_exporter": "python",
   "pygments_lexer": "ipython3",
   "version": "3.12.7"
  }
 },
 "nbformat": 4,
 "nbformat_minor": 2
}
